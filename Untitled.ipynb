{
 "cells": [
  {
   "cell_type": "code",
   "execution_count": 1,
   "metadata": {},
   "outputs": [
    {
     "name": "stdout",
     "output_type": "stream",
     "text": [
      "Welcome!\n",
      "\n",
      "Burger & Wrap              Beverage                   Snack & Dessert\n",
      "-------------------------  -------------------------  -------------------\n",
      "1. Big Mac                 8. Coke                    15. Poutine\n",
      "2. Cheese Burger           9. Diet Coke               16. Chicken Nuggest\n",
      "3. Mighty Angus            10. Ice Tea                17. Fries\n",
      "4. Chrispy Chicken Wrap    11. Every Flavor Smoothie  18. Muffin\n",
      "5. Grilled Chicken Wrap    12. McCafe                 19. Brownie Cookie\n",
      "6. Carsar McWrap           13. Hot Chocolate          20. Apple Pie\n",
      "7. Chicken & Bacon McWrap  14. Water                  21. McFlurry \n",
      "\n",
      "Your Orders: \n",
      "['Big Mac', 'Mighty Angus', 'Coke', 'Ice Tea', 'Fries', 'Muffin'] \n",
      "\n",
      "   Price: 15.1\n",
      " GST(5%): 0.75\n",
      " PST(7%): 1.06\n",
      "   Total: 16.91\n",
      "\n",
      "Your Orders: \n",
      "['Fries'] \n",
      "\n",
      "   Price: 2.1\n",
      " GST(5%): 0.11\n",
      " PST(7%): 0.15\n",
      "   Total: 2.35\n",
      "\n",
      "Welcome!\n",
      "\n",
      "Please choose [Book] or [Toy] for this kids meal and no more than 4 items for the order!\n",
      "\n",
      "Burger & Wrap             Beverage                  Snack\n",
      "------------------------  ------------------------  -------------------\n",
      "22. Cheeseburger          26. Milk                  30. Apple Slice\n",
      "23. Hamburger             27. Orange Juice          31. Chicken Nuggest\n",
      "24. Chrispy Chicken Wrap  28. Pineapple Smoothie    32. Mini Fry\n",
      "25. Grilled Chicken Wrap  29. Every Flavor Yoghurt  33. Carrot Muffin \n",
      "\n",
      "Your Orders: \n",
      "['Cheeseburger', 'Milk', 'Mini Fry'] \n",
      "\n",
      "   Price: 5.0\n",
      " GST(5%): 0.25\n",
      " PST(7%): 0.35\n",
      "   Total: 5.6\n",
      "\n",
      "Gift [Toy]\n",
      "Your Orders: \n",
      "['Kids Grilled Chicken Wrap', 'Pineapple Smoothie', 'Kids Chicken Nuggest'] \n",
      "\n",
      "   Price: 5.4\n",
      " GST(5%): 0.27\n",
      " PST(7%): 0.38\n",
      "   Total: 6.05\n",
      "\n",
      "Gift [Book]\n",
      "Please review your order and make sure no more than 4 items selected for this kids meal, thank you!\n"
     ]
    }
   ],
   "source": [
    "import Test_FreeOrder"
   ]
  },
  {
   "cell_type": "code",
   "execution_count": 2,
   "metadata": {},
   "outputs": [
    {
     "name": "stdout",
     "output_type": "stream",
     "text": [
      "Dietcombo test part:\n",
      "enter coca as drink\n",
      "display current combo:\n",
      "burger:['cheeseburger'],snack:['fries'],drink:['coca']\n",
      "check whether drink is diet:\n",
      "warning: drink is not diet!\n",
      "add nuggets as snack twice\n",
      "add lettuce as snack twice\n",
      "check whether calories under standard:\n",
      "warning: calories higher than standard!!!\n",
      "display current combo:\n",
      "burger:['cheeseburger', 'double meat'],snack:['fries', 'nuggets', 'nuggets'],drink:['coca']\n",
      "check whether burger is whether, not reuglar will correct\n",
      "Only regurlar burger provided in diet combo\n",
      "display current combo:\n",
      "burger:['cheeseburger'],snack:['fries', 'nuggets', 'nuggets'],drink:['coca']\n",
      "calculate total price\n",
      "total price is:18.3425 CAD(Tax included)\n",
      "\n",
      "\n",
      "Regularcombo test part:\n",
      "add lettuce for burger\n",
      "add chicken finger for snack\n",
      "add ice for drink\n",
      "display current combo:\n",
      "burger:['big_mac', 'lettuce'],snack:['fries', 'chicken finger'],drink:['coca', 'ice']\n",
      "calculate total price\n",
      "total price is:20.6425 CAD(Tax included)\n"
     ]
    }
   ],
   "source": [
    "import Test_Combo"
   ]
  },
  {
   "cell_type": "code",
   "execution_count": 3,
   "metadata": {},
   "outputs": [
    {
     "name": "stdout",
     "output_type": "stream",
     "text": [
      "Requirement already satisfied: tabulate in /Users/fengchengliu/opt/miniconda3/lib/python3.8/site-packages (0.8.7)\n",
      "Note: you may need to restart the kernel to use updated packages.\n"
     ]
    }
   ],
   "source": [
    "pip install tabulate"
   ]
  },
  {
   "cell_type": "code",
   "execution_count": null,
   "metadata": {},
   "outputs": [],
   "source": []
  }
 ],
 "metadata": {
  "kernelspec": {
   "display_name": "Python 3",
   "language": "python",
   "name": "python3"
  },
  "language_info": {
   "codemirror_mode": {
    "name": "ipython",
    "version": 3
   },
   "file_extension": ".py",
   "mimetype": "text/x-python",
   "name": "python",
   "nbconvert_exporter": "python",
   "pygments_lexer": "ipython3",
   "version": "3.8.3"
  }
 },
 "nbformat": 4,
 "nbformat_minor": 4
}
